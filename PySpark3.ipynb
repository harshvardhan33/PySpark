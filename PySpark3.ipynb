{
 "cells": [
  {
   "cell_type": "markdown",
   "id": "06d0adb8",
   "metadata": {},
   "source": [
    "# PySpark Hadling Missing Values \n",
    "\n",
    "1. Dropping Columns \n",
    "2. Dropping Rows\n",
    "3. Various Parameter in Dropping Functionalities\n",
    "4. Handling Missing Values by Mean,Median and Mode\n"
   ]
  },
  {
   "cell_type": "code",
   "execution_count": 1,
   "id": "e309d18d",
   "metadata": {},
   "outputs": [],
   "source": [
    "import pyspark \n",
    "from pyspark.sql import SparkSession"
   ]
  },
  {
   "cell_type": "code",
   "execution_count": 29,
   "id": "3173d62e",
   "metadata": {},
   "outputs": [
    {
     "name": "stdout",
     "output_type": "stream",
     "text": [
      "+------+----------+--------+-------+--------+-----+\n",
      "|Prefix|Assignment|Tutorial|Midterm|TakeHome|Final|\n",
      "+------+----------+--------+-------+--------+-----+\n",
      "|     5|     57.14|   34.09|  64.38|   51.48| 52.5|\n",
      "|     8|      null|  105.49|   67.5|   99.07| null|\n",
      "|     8|      83.7|    null|   30.0|   63.15|48.89|\n",
      "|  null|     81.22|   96.06|  49.38|  105.93|80.56|\n",
      "|     8|      null|   93.64|   95.0|  107.41|73.89|\n",
      "|     7|      null|   92.58|  93.12|    null|68.06|\n",
      "|  null|     95.05|  102.99|  56.25|   99.07| 50.0|\n",
      "|     7|     72.85|   86.85|   60.0|    null|56.11|\n",
      "|  null|     84.26|    null|   47.5|   18.52| null|\n",
      "+------+----------+--------+-------+--------+-----+\n",
      "\n"
     ]
    }
   ],
   "source": [
    "spark = SparkSession.builder.appName('Practise').getOrCreate()\n",
    "df_pyspark = spark.read.csv(\"class-grades.csv\",header=True,inferSchema=True)\n",
    "df_pyspark.show()"
   ]
  },
  {
   "cell_type": "code",
   "execution_count": 10,
   "id": "d2d98a78",
   "metadata": {},
   "outputs": [
    {
     "data": {
      "text/html": [
       "<div>\n",
       "<style scoped>\n",
       "    .dataframe tbody tr th:only-of-type {\n",
       "        vertical-align: middle;\n",
       "    }\n",
       "\n",
       "    .dataframe tbody tr th {\n",
       "        vertical-align: top;\n",
       "    }\n",
       "\n",
       "    .dataframe thead th {\n",
       "        text-align: right;\n",
       "    }\n",
       "</style>\n",
       "<table border=\"1\" class=\"dataframe\">\n",
       "  <thead>\n",
       "    <tr style=\"text-align: right;\">\n",
       "      <th></th>\n",
       "      <th>Prefix</th>\n",
       "      <th>Assignment</th>\n",
       "      <th>Tutorial</th>\n",
       "      <th>Midterm</th>\n",
       "      <th>TakeHome</th>\n",
       "      <th>Final</th>\n",
       "    </tr>\n",
       "  </thead>\n",
       "  <tbody>\n",
       "    <tr>\n",
       "      <th>0</th>\n",
       "      <td>5.0</td>\n",
       "      <td>57.14</td>\n",
       "      <td>34.09</td>\n",
       "      <td>64.38</td>\n",
       "      <td>51.48</td>\n",
       "      <td>52.50</td>\n",
       "    </tr>\n",
       "    <tr>\n",
       "      <th>1</th>\n",
       "      <td>8.0</td>\n",
       "      <td>NaN</td>\n",
       "      <td>105.49</td>\n",
       "      <td>67.50</td>\n",
       "      <td>99.07</td>\n",
       "      <td>NaN</td>\n",
       "    </tr>\n",
       "    <tr>\n",
       "      <th>2</th>\n",
       "      <td>8.0</td>\n",
       "      <td>83.70</td>\n",
       "      <td>NaN</td>\n",
       "      <td>30.00</td>\n",
       "      <td>63.15</td>\n",
       "      <td>48.89</td>\n",
       "    </tr>\n",
       "    <tr>\n",
       "      <th>3</th>\n",
       "      <td>NaN</td>\n",
       "      <td>81.22</td>\n",
       "      <td>96.06</td>\n",
       "      <td>49.38</td>\n",
       "      <td>105.93</td>\n",
       "      <td>80.56</td>\n",
       "    </tr>\n",
       "    <tr>\n",
       "      <th>4</th>\n",
       "      <td>8.0</td>\n",
       "      <td>NaN</td>\n",
       "      <td>93.64</td>\n",
       "      <td>95.00</td>\n",
       "      <td>107.41</td>\n",
       "      <td>73.89</td>\n",
       "    </tr>\n",
       "  </tbody>\n",
       "</table>\n",
       "</div>"
      ],
      "text/plain": [
       "   Prefix  Assignment  Tutorial  Midterm  TakeHome  Final\n",
       "0     5.0       57.14     34.09    64.38     51.48  52.50\n",
       "1     8.0         NaN    105.49    67.50     99.07    NaN\n",
       "2     8.0       83.70       NaN    30.00     63.15  48.89\n",
       "3     NaN       81.22     96.06    49.38    105.93  80.56\n",
       "4     8.0         NaN     93.64    95.00    107.41  73.89"
      ]
     },
     "execution_count": 10,
     "metadata": {},
     "output_type": "execute_result"
    }
   ],
   "source": [
    "import pandas as pd\n",
    "data = pd.read_csv(\"class-grades.csv\")\n",
    "data.head()"
   ]
  },
  {
   "cell_type": "code",
   "execution_count": 14,
   "id": "d7dd8b30",
   "metadata": {
    "scrolled": true
   },
   "outputs": [
    {
     "data": {
      "text/plain": [
       "Prefix        3\n",
       "Assignment    3\n",
       "Tutorial      2\n",
       "Midterm       0\n",
       "TakeHome      2\n",
       "Final         2\n",
       "dtype: int64"
      ]
     },
     "execution_count": 14,
     "metadata": {},
     "output_type": "execute_result"
    }
   ],
   "source": [
    "data.isnull().sum()"
   ]
  },
  {
   "cell_type": "markdown",
   "id": "1f086b0f",
   "metadata": {},
   "source": [
    "## Handling Missing Values\n",
    "\n",
    "1. **drop** :  remove all nan value.\n",
    "\n",
    "    how = any,all\n",
    "        any : drop the row even if any single null is there\n",
    "        all : if all the values are null then only it will drop \n",
    "    \n",
    "    thresh = let the threshold be = k \n",
    "              atleast k non null values should be there in order \n",
    "              to keep that row otherwise it will be delted.\n",
    "    \n",
    "    subset =  When you want to consider only one specific column in \n",
    "            order to drop the nan values\n",
    "2. **fill** :  filling of missing values is done with the help of this method\n",
    "\n",
    "    value = It will simply fill whatever you provide in the value as missing value in the column.\n",
    "             (You can also use the imputer function)\n",
    "             from pyspark.ml,feature import Imputer\n",
    "    subset = This will be used to select one or more specific column"
   ]
  },
  {
   "cell_type": "code",
   "execution_count": 16,
   "id": "a9d68003",
   "metadata": {},
   "outputs": [
    {
     "name": "stdout",
     "output_type": "stream",
     "text": [
      "+------+----------+--------+-------+--------+-----+\n",
      "|Prefix|Assignment|Tutorial|Midterm|TakeHome|Final|\n",
      "+------+----------+--------+-------+--------+-----+\n",
      "|     5|     57.14|   34.09|  64.38|   51.48| 52.5|\n",
      "+------+----------+--------+-------+--------+-----+\n",
      "\n"
     ]
    }
   ],
   "source": [
    "df_pyspark.na.drop(how=\"any\").show()"
   ]
  },
  {
   "cell_type": "code",
   "execution_count": 18,
   "id": "5334a08a",
   "metadata": {},
   "outputs": [
    {
     "name": "stdout",
     "output_type": "stream",
     "text": [
      "+------+----------+--------+-------+--------+-----+\n",
      "|Prefix|Assignment|Tutorial|Midterm|TakeHome|Final|\n",
      "+------+----------+--------+-------+--------+-----+\n",
      "|     5|     57.14|   34.09|  64.38|   51.48| 52.5|\n",
      "|     8|      null|  105.49|   67.5|   99.07| null|\n",
      "|     8|      83.7|    null|   30.0|   63.15|48.89|\n",
      "|  null|     81.22|   96.06|  49.38|  105.93|80.56|\n",
      "|     8|      null|   93.64|   95.0|  107.41|73.89|\n",
      "|     7|      null|   92.58|  93.12|    null|68.06|\n",
      "|  null|     95.05|  102.99|  56.25|   99.07| 50.0|\n",
      "|     7|     72.85|   86.85|   60.0|    null|56.11|\n",
      "|  null|     84.26|    null|   47.5|   18.52| null|\n",
      "+------+----------+--------+-------+--------+-----+\n",
      "\n"
     ]
    }
   ],
   "source": [
    "df_pyspark.na.drop(how=\"all\").show()"
   ]
  },
  {
   "cell_type": "code",
   "execution_count": 21,
   "id": "788a146c",
   "metadata": {},
   "outputs": [
    {
     "name": "stdout",
     "output_type": "stream",
     "text": [
      "+------+----------+--------+-------+--------+-----+\n",
      "|Prefix|Assignment|Tutorial|Midterm|TakeHome|Final|\n",
      "+------+----------+--------+-------+--------+-----+\n",
      "|     5|     57.14|   34.09|  64.38|   51.48| 52.5|\n",
      "|     8|      83.7|    null|   30.0|   63.15|48.89|\n",
      "|  null|     81.22|   96.06|  49.38|  105.93|80.56|\n",
      "|     8|      null|   93.64|   95.0|  107.41|73.89|\n",
      "|  null|     95.05|  102.99|  56.25|   99.07| 50.0|\n",
      "|     7|     72.85|   86.85|   60.0|    null|56.11|\n",
      "+------+----------+--------+-------+--------+-----+\n",
      "\n"
     ]
    }
   ],
   "source": [
    "df_pyspark.na.drop(how=\"any\",thresh=5).show()"
   ]
  },
  {
   "cell_type": "code",
   "execution_count": 27,
   "id": "2cc5c1b9",
   "metadata": {},
   "outputs": [
    {
     "name": "stdout",
     "output_type": "stream",
     "text": [
      "+------+----------+--------+-------+--------+-------+\n",
      "|Prefix|Assignment|Tutorial|Midterm|TakeHome|  Final|\n",
      "+------+----------+--------+-------+--------+-------+\n",
      "|     5|     57.14|   34.09|  64.38|   51.48|   52.5|\n",
      "|     8|   10000.0|  105.49|   67.5|   99.07|10000.0|\n",
      "|     8|      83.7| 10000.0|   30.0|   63.15|  48.89|\n",
      "| 10000|     81.22|   96.06|  49.38|  105.93|  80.56|\n",
      "|     8|   10000.0|   93.64|   95.0|  107.41|  73.89|\n",
      "|     7|   10000.0|   92.58|  93.12| 10000.0|  68.06|\n",
      "| 10000|     95.05|  102.99|  56.25|   99.07|   50.0|\n",
      "|     7|     72.85|   86.85|   60.0| 10000.0|  56.11|\n",
      "| 10000|     84.26| 10000.0|   47.5|   18.52|10000.0|\n",
      "+------+----------+--------+-------+--------+-------+\n",
      "\n"
     ]
    }
   ],
   "source": [
    "df_pyspark.na.fill(value=10000).show()"
   ]
  },
  {
   "cell_type": "markdown",
   "id": "f37fa928",
   "metadata": {},
   "source": [
    "## Filters in DataFrame"
   ]
  },
  {
   "cell_type": "markdown",
   "id": "916189a3",
   "metadata": {},
   "source": [
    "Suppose I want to find out the midterm marks greater than 60"
   ]
  },
  {
   "cell_type": "code",
   "execution_count": 32,
   "id": "a3c6b593",
   "metadata": {},
   "outputs": [
    {
     "name": "stdout",
     "output_type": "stream",
     "text": [
      "+------+----------+--------+-------+--------+-----+\n",
      "|Prefix|Assignment|Tutorial|Midterm|TakeHome|Final|\n",
      "+------+----------+--------+-------+--------+-----+\n",
      "|     5|     57.14|   34.09|  64.38|   51.48| 52.5|\n",
      "|     8|      null|  105.49|   67.5|   99.07| null|\n",
      "|     8|      null|   93.64|   95.0|  107.41|73.89|\n",
      "|     7|      null|   92.58|  93.12|    null|68.06|\n",
      "|     7|     72.85|   86.85|   60.0|    null|56.11|\n",
      "+------+----------+--------+-------+--------+-----+\n",
      "\n"
     ]
    }
   ],
   "source": [
    "df_pyspark.filter(\"Midterm>=60\").show()"
   ]
  },
  {
   "cell_type": "code",
   "execution_count": 34,
   "id": "c983082f",
   "metadata": {},
   "outputs": [
    {
     "name": "stdout",
     "output_type": "stream",
     "text": [
      "+-------+-----+\n",
      "|Midterm|Final|\n",
      "+-------+-----+\n",
      "|  64.38| 52.5|\n",
      "|   67.5| null|\n",
      "|   95.0|73.89|\n",
      "|  93.12|68.06|\n",
      "|   60.0|56.11|\n",
      "+-------+-----+\n",
      "\n"
     ]
    }
   ],
   "source": [
    "df_pyspark.filter(\"Midterm>=60\").select([\"Midterm\",\"Final\"]).show()"
   ]
  },
  {
   "cell_type": "markdown",
   "id": "7b6be758",
   "metadata": {},
   "source": [
    "Two different conditions in pyspark dataframe"
   ]
  },
  {
   "cell_type": "code",
   "execution_count": 36,
   "id": "13d79d7a",
   "metadata": {},
   "outputs": [
    {
     "name": "stdout",
     "output_type": "stream",
     "text": [
      "+------+----------+--------+-------+--------+-----+\n",
      "|Prefix|Assignment|Tutorial|Midterm|TakeHome|Final|\n",
      "+------+----------+--------+-------+--------+-----+\n",
      "|     5|     57.14|   34.09|  64.38|   51.48| 52.5|\n",
      "|     7|     72.85|   86.85|   60.0|    null|56.11|\n",
      "+------+----------+--------+-------+--------+-----+\n",
      "\n"
     ]
    }
   ],
   "source": [
    "df_pyspark.filter((df_pyspark[\"Final\"]<=60) & \n",
    "                  (df_pyspark[\"Midterm\"]>=60)).show()"
   ]
  },
  {
   "cell_type": "code",
   "execution_count": null,
   "id": "93d8f27f",
   "metadata": {},
   "outputs": [],
   "source": []
  }
 ],
 "metadata": {
  "kernelspec": {
   "display_name": "Python 3",
   "language": "python",
   "name": "python3"
  },
  "language_info": {
   "codemirror_mode": {
    "name": "ipython",
    "version": 3
   },
   "file_extension": ".py",
   "mimetype": "text/x-python",
   "name": "python",
   "nbconvert_exporter": "python",
   "pygments_lexer": "ipython3",
   "version": "3.6.13"
  }
 },
 "nbformat": 4,
 "nbformat_minor": 5
}
