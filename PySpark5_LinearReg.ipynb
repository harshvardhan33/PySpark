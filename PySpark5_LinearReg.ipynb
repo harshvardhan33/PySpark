{
 "cells": [
  {
   "cell_type": "markdown",
   "id": "b20f7729",
   "metadata": {},
   "source": [
    "# PySpark Mlib Library Introduction for Linear Regression"
   ]
  },
  {
   "cell_type": "code",
   "execution_count": 8,
   "id": "25a9cc86",
   "metadata": {},
   "outputs": [
    {
     "data": {
      "text/html": [
       "<div>\n",
       "<style scoped>\n",
       "    .dataframe tbody tr th:only-of-type {\n",
       "        vertical-align: middle;\n",
       "    }\n",
       "\n",
       "    .dataframe tbody tr th {\n",
       "        vertical-align: top;\n",
       "    }\n",
       "\n",
       "    .dataframe thead th {\n",
       "        text-align: right;\n",
       "    }\n",
       "</style>\n",
       "<table border=\"1\" class=\"dataframe\">\n",
       "  <thead>\n",
       "    <tr style=\"text-align: right;\">\n",
       "      <th></th>\n",
       "      <th>Name</th>\n",
       "      <th>Dept</th>\n",
       "      <th>Age</th>\n",
       "      <th>Exp</th>\n",
       "      <th>Sal</th>\n",
       "    </tr>\n",
       "  </thead>\n",
       "  <tbody>\n",
       "    <tr>\n",
       "      <th>0</th>\n",
       "      <td>A</td>\n",
       "      <td>D1</td>\n",
       "      <td>29</td>\n",
       "      <td>5</td>\n",
       "      <td>10000</td>\n",
       "    </tr>\n",
       "    <tr>\n",
       "      <th>1</th>\n",
       "      <td>B</td>\n",
       "      <td>D3</td>\n",
       "      <td>25</td>\n",
       "      <td>3</td>\n",
       "      <td>5000</td>\n",
       "    </tr>\n",
       "    <tr>\n",
       "      <th>2</th>\n",
       "      <td>C</td>\n",
       "      <td>D1</td>\n",
       "      <td>22</td>\n",
       "      <td>2</td>\n",
       "      <td>4000</td>\n",
       "    </tr>\n",
       "    <tr>\n",
       "      <th>3</th>\n",
       "      <td>C</td>\n",
       "      <td>D2</td>\n",
       "      <td>25</td>\n",
       "      <td>2</td>\n",
       "      <td>4000</td>\n",
       "    </tr>\n",
       "    <tr>\n",
       "      <th>4</th>\n",
       "      <td>D</td>\n",
       "      <td>D2</td>\n",
       "      <td>37</td>\n",
       "      <td>7</td>\n",
       "      <td>20000</td>\n",
       "    </tr>\n",
       "  </tbody>\n",
       "</table>\n",
       "</div>"
      ],
      "text/plain": [
       "  Name Dept  Age  Exp    Sal\n",
       "0    A   D1   29    5  10000\n",
       "1    B   D3   25    3   5000\n",
       "2    C   D1   22    2   4000\n",
       "3    C   D2   25    2   4000\n",
       "4    D   D2   37    7  20000"
      ]
     },
     "execution_count": 8,
     "metadata": {},
     "output_type": "execute_result"
    }
   ],
   "source": [
    "import pandas as pd \n",
    "data = pd.read_csv(\"salary.csv\")\n",
    "data.head()"
   ]
  },
  {
   "cell_type": "code",
   "execution_count": 9,
   "id": "14f2877a",
   "metadata": {},
   "outputs": [],
   "source": [
    "from pyspark.sql import SparkSession\n",
    "spark = SparkSession.builder.appName(\"Missing\").getOrCreate()"
   ]
  },
  {
   "cell_type": "code",
   "execution_count": 11,
   "id": "6e8d0af3",
   "metadata": {},
   "outputs": [
    {
     "name": "stdout",
     "output_type": "stream",
     "text": [
      "+----+----+---+---+-----+\n",
      "|Name|Dept|Age|Exp|  Sal|\n",
      "+----+----+---+---+-----+\n",
      "|   A|  D1| 29|  5|10000|\n",
      "|   B|  D3| 25|  3| 5000|\n",
      "|   C|  D1| 22|  2| 4000|\n",
      "|   C|  D2| 25|  2| 4000|\n",
      "|   D|  D2| 37|  7|20000|\n",
      "|   C|  D1| 22|  1| 3000|\n",
      "|   B|  D2| 23|  1| 1000|\n",
      "|   A|  D1| 32|  1| 2000|\n",
      "|   C|  D3| 24|  4| 7000|\n",
      "+----+----+---+---+-----+\n",
      "\n"
     ]
    }
   ],
   "source": [
    "training = spark.read.csv(\"salary.csv\",header=True,inferSchema=True)\n",
    "training.show()"
   ]
  },
  {
   "cell_type": "code",
   "execution_count": 12,
   "id": "b8b71f79",
   "metadata": {},
   "outputs": [
    {
     "name": "stdout",
     "output_type": "stream",
     "text": [
      "root\n",
      " |-- Name: string (nullable = true)\n",
      " |-- Dept: string (nullable = true)\n",
      " |-- Age: integer (nullable = true)\n",
      " |-- Exp: integer (nullable = true)\n",
      " |-- Sal: integer (nullable = true)\n",
      "\n"
     ]
    }
   ],
   "source": [
    "training.printSchema()"
   ]
  },
  {
   "cell_type": "code",
   "execution_count": 13,
   "id": "c29793ff",
   "metadata": {},
   "outputs": [
    {
     "data": {
      "text/plain": [
       "['Name', 'Dept', 'Age', 'Exp', 'Sal']"
      ]
     },
     "execution_count": 13,
     "metadata": {},
     "output_type": "execute_result"
    }
   ],
   "source": [
    "training.columns"
   ]
  },
  {
   "cell_type": "markdown",
   "id": "77cf086e",
   "metadata": {},
   "source": [
    "## Data Pre-Processing in PySpark\n",
    "1. In pyspark we use Vector Assembler that is used to group the independent features.\n",
    "\n",
    "2. New grouped independent feature is created."
   ]
  },
  {
   "cell_type": "code",
   "execution_count": 15,
   "id": "4d96bb74",
   "metadata": {},
   "outputs": [
    {
     "name": "stdout",
     "output_type": "stream",
     "text": [
      "+----+----+---+---+-----+--------------------+\n",
      "|Name|Dept|Age|Exp|  Sal|Independent Features|\n",
      "+----+----+---+---+-----+--------------------+\n",
      "|   A|  D1| 29|  5|10000|          [29.0,5.0]|\n",
      "|   B|  D3| 25|  3| 5000|          [25.0,3.0]|\n",
      "|   C|  D1| 22|  2| 4000|          [22.0,2.0]|\n",
      "|   C|  D2| 25|  2| 4000|          [25.0,2.0]|\n",
      "|   D|  D2| 37|  7|20000|          [37.0,7.0]|\n",
      "|   C|  D1| 22|  1| 3000|          [22.0,1.0]|\n",
      "|   B|  D2| 23|  1| 1000|          [23.0,1.0]|\n",
      "|   A|  D1| 32|  1| 2000|          [32.0,1.0]|\n",
      "|   C|  D3| 24|  4| 7000|          [24.0,4.0]|\n",
      "+----+----+---+---+-----+--------------------+\n",
      "\n"
     ]
    }
   ],
   "source": [
    "from pyspark.ml.feature import VectorAssembler\n",
    "featureassembler = VectorAssembler(inputCols=[\"Age\",\"Exp\"],outputCol=\"Independent Features\")\n",
    "output = featureassembler.transform(training)\n",
    "output.show()"
   ]
  },
  {
   "cell_type": "code",
   "execution_count": 17,
   "id": "e12d3cf5",
   "metadata": {},
   "outputs": [
    {
     "name": "stdout",
     "output_type": "stream",
     "text": [
      "+--------------------+-----+\n",
      "|Independent Features|  Sal|\n",
      "+--------------------+-----+\n",
      "|          [29.0,5.0]|10000|\n",
      "|          [25.0,3.0]| 5000|\n",
      "|          [22.0,2.0]| 4000|\n",
      "|          [25.0,2.0]| 4000|\n",
      "|          [37.0,7.0]|20000|\n",
      "|          [22.0,1.0]| 3000|\n",
      "|          [23.0,1.0]| 1000|\n",
      "|          [32.0,1.0]| 2000|\n",
      "|          [24.0,4.0]| 7000|\n",
      "+--------------------+-----+\n",
      "\n"
     ]
    }
   ],
   "source": [
    "finalized_data = output.select(\"Independent Features\",\"Sal\")\n",
    "finalized_data.show()"
   ]
  },
  {
   "cell_type": "code",
   "execution_count": 23,
   "id": "c35e631d",
   "metadata": {},
   "outputs": [],
   "source": [
    "from pyspark.ml.regression import LinearRegression\n",
    "train_data,test_data = finalized_data.randomSplit([0.60,0.40])\n",
    "reg = LinearRegression(featuresCol=\"Independent Features\",labelCol=\"Sal\")\n",
    "reg = reg.fit(train_data)"
   ]
  },
  {
   "cell_type": "code",
   "execution_count": 24,
   "id": "60b24e01",
   "metadata": {},
   "outputs": [
    {
     "data": {
      "text/plain": [
       "DenseVector([534.4311, 1821.8563])"
      ]
     },
     "execution_count": 24,
     "metadata": {},
     "output_type": "execute_result"
    }
   ],
   "source": [
    "reg.coefficients"
   ]
  },
  {
   "cell_type": "code",
   "execution_count": 25,
   "id": "c5591522",
   "metadata": {},
   "outputs": [
    {
     "data": {
      "text/plain": [
       "-12796.407185629623"
      ]
     },
     "execution_count": 25,
     "metadata": {},
     "output_type": "execute_result"
    }
   ],
   "source": [
    "reg.intercept"
   ]
  },
  {
   "cell_type": "code",
   "execution_count": 26,
   "id": "58db674d",
   "metadata": {},
   "outputs": [
    {
     "name": "stdout",
     "output_type": "stream",
     "text": [
      "+--------------------+-----+------------------+\n",
      "|Independent Features|  Sal|        prediction|\n",
      "+--------------------+-----+------------------+\n",
      "|          [22.0,1.0]| 3000| 782.9341317365852|\n",
      "|          [25.0,2.0]| 4000|  4208.08383233542|\n",
      "|          [29.0,5.0]|10000|11811.377245508937|\n",
      "|          [32.0,1.0]| 2000| 6127.245508982573|\n",
      "+--------------------+-----+------------------+\n",
      "\n"
     ]
    }
   ],
   "source": [
    "pred_results = reg.evaluate(test_data)\n",
    "pred_results.predictions.show()"
   ]
  },
  {
   "cell_type": "code",
   "execution_count": 27,
   "id": "e33a7401",
   "metadata": {},
   "outputs": [
    {
     "data": {
      "text/plain": [
       "(2090.943113772586, 6318480.74061559)"
      ]
     },
     "execution_count": 27,
     "metadata": {},
     "output_type": "execute_result"
    }
   ],
   "source": [
    "pred_results.meanAbsoluteError,pred_results.meanSquaredError"
   ]
  },
  {
   "cell_type": "code",
   "execution_count": null,
   "id": "ca4dfc7b",
   "metadata": {},
   "outputs": [],
   "source": []
  }
 ],
 "metadata": {
  "kernelspec": {
   "display_name": "Python 3",
   "language": "python",
   "name": "python3"
  },
  "language_info": {
   "codemirror_mode": {
    "name": "ipython",
    "version": 3
   },
   "file_extension": ".py",
   "mimetype": "text/x-python",
   "name": "python",
   "nbconvert_exporter": "python",
   "pygments_lexer": "ipython3",
   "version": "3.6.13"
  }
 },
 "nbformat": 4,
 "nbformat_minor": 5
}
